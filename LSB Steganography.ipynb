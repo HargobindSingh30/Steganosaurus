{
 "cells": [
  {
   "cell_type": "code",
   "execution_count": 1,
   "id": "architectural-lottery",
   "metadata": {},
   "outputs": [],
   "source": [
    "import numpy as np\n",
    "from PIL import Image"
   ]
  },
  {
   "cell_type": "code",
   "execution_count": 2,
   "id": "clear-check",
   "metadata": {},
   "outputs": [],
   "source": [
    "def Encode(src, message, dest):\n",
    "\n",
    "    img = Image.open(src, 'r')\n",
    "    width, height = img.size\n",
    "    array = np.array(list(img.getdata()))\n",
    "\n",
    "    if img.mode == 'RGB':\n",
    "        n = 3\n",
    "    elif img.mode == 'RGBA':\n",
    "        n = 4\n",
    "    total_pixels = array.size//n\n",
    "\n",
    "    message += \"$t3g0\"\n",
    "    b_message = ''.join([format(ord(i), \"08b\") for i in message])\n",
    "    req_pixels = len(b_message)\n",
    "\n",
    "    if req_pixels > total_pixels:\n",
    "        print(\"ERROR: Need larger file size\")\n",
    "\n",
    "    else:\n",
    "        index=0\n",
    "        for p in range(total_pixels):\n",
    "            for q in range(0, 3):\n",
    "                if index < req_pixels:\n",
    "                    array[p][q] = int(bin(array[p][q])[2:9] + b_message[index], 2)\n",
    "                    index += 1\n",
    "\n",
    "        array=array.reshape(height, width, n)\n",
    "        enc_img = Image.fromarray(array.astype('uint8'), img.mode)\n",
    "        enc_img.save(dest)\n",
    "        print(\"Image Encoded Successfully\")"
   ]
  },
  {
   "cell_type": "code",
   "execution_count": 3,
   "id": "compliant-switch",
   "metadata": {},
   "outputs": [],
   "source": [
    "def Decode(src):\n",
    "\n",
    "    img = Image.open(src, 'r')\n",
    "    array = np.array(list(img.getdata()))\n",
    "\n",
    "    if img.mode == 'RGB':\n",
    "        n = 3\n",
    "    elif img.mode == 'RGBA':\n",
    "        n = 4\n",
    "    total_pixels = array.size//n\n",
    "\n",
    "    hidden_bits = \"\"\n",
    "    for p in range(total_pixels):\n",
    "        for q in range(0, 3):\n",
    "            hidden_bits += (bin(array[p][q])[2:][-1])\n",
    "\n",
    "    hidden_bits = [hidden_bits[i:i+8] for i in range(0, len(hidden_bits), 8)]\n",
    "\n",
    "    message = \"\"\n",
    "    for i in range(len(hidden_bits)):\n",
    "        if message[-5:] == \"$t3g0\":\n",
    "            break\n",
    "        else:\n",
    "            message += chr(int(hidden_bits[i], 2))\n",
    "    if \"$t3g0\" in message:\n",
    "        print(\"Hidden Message:\", message[:-5])\n",
    "    else:\n",
    "        print(\"No Hidden Message Found\")"
   ]
  },
  {
   "cell_type": "code",
   "execution_count": 4,
   "id": "signal-harvey",
   "metadata": {},
   "outputs": [],
   "source": [
    "def Stego():\n",
    "    print(\"--Welcome to $t3g0--\")\n",
    "    print(\"1: Encode\")\n",
    "    print(\"2: Decode\")\n",
    "\n",
    "    func = input()\n",
    "\n",
    "    if func == '1':\n",
    "        print(\"Enter Source Image Path\")\n",
    "        src = input()\n",
    "        print(\"Enter Message to Hide\")\n",
    "        message = input()\n",
    "        print(\"Enter Destination Image Path\")\n",
    "        dest = input()\n",
    "        print(\"Encoding...\")\n",
    "        Encode(src, message, dest)\n",
    "\n",
    "    elif func == '2':\n",
    "        print(\"Enter Source Image Path\")\n",
    "        src = input()\n",
    "        print(\"Decoding...\")\n",
    "        Decode(src)\n",
    "\n",
    "    else:\n",
    "        print(\"ERROR: Invalid option chosen\")"
   ]
  },
  {
   "cell_type": "code",
   "execution_count": 5,
   "id": "acknowledged-subdivision",
   "metadata": {},
   "outputs": [
    {
     "name": "stdout",
     "output_type": "stream",
     "text": [
      "--Welcome to $t3g0--\n",
      "1: Encode\n",
      "2: Decode\n",
      "1\n",
      "Enter Source Image Path\n",
      "KTP.png\n",
      "Enter Message to Hide\n",
      "Hargobind\n",
      "Enter Destination Image Path\n",
      "KTPenc.png\n",
      "Encoding...\n",
      "Image Encoded Successfully\n"
     ]
    }
   ],
   "source": [
    "Stego()"
   ]
  },
  {
   "cell_type": "code",
   "execution_count": 6,
   "id": "standard-howard",
   "metadata": {},
   "outputs": [
    {
     "name": "stdout",
     "output_type": "stream",
     "text": [
      "--Welcome to $t3g0--\n",
      "1: Encode\n",
      "2: Decode\n",
      "2\n",
      "Enter Source Image Path\n",
      "KTPenc.png\n",
      "Decoding...\n",
      "Hidden Message: Hargobind\n"
     ]
    }
   ],
   "source": [
    "Stego()"
   ]
  },
  {
   "cell_type": "code",
   "execution_count": null,
   "id": "subjective-joyce",
   "metadata": {},
   "outputs": [],
   "source": []
  }
 ],
 "metadata": {
  "kernelspec": {
   "display_name": "Python 3 (ipykernel)",
   "language": "python",
   "name": "python3"
  },
  "language_info": {
   "codemirror_mode": {
    "name": "ipython",
    "version": 3
   },
   "file_extension": ".py",
   "mimetype": "text/x-python",
   "name": "python",
   "nbconvert_exporter": "python",
   "pygments_lexer": "ipython3",
   "version": "3.11.5"
  }
 },
 "nbformat": 4,
 "nbformat_minor": 5
}
